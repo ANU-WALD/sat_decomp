{
 "cells": [
  {
   "cell_type": "code",
   "execution_count": null,
   "metadata": {},
   "outputs": [],
   "source": [
    "%matplotlib inline\n",
    "\n",
    "import numpy as np\n",
    "import xarray as xr\n",
    "from matplotlib import pyplot as plt\n",
    "\n",
    "i,j=11,3\n",
    "ds2018 = xr.open_dataset(f\"/data/pca_act/{26*j+i:03d}_2018.nc\")\n",
    "ds2019 = xr.open_dataset(f\"/data/pca_act/{26*j+i:03d}_2019.nc\")\n",
    "\n",
    "ds = xr.concat([ds2018, ds2019], dim='time').sortby('time')\n",
    "\n",
    "ds[['nbart_red','nbart_green','nbart_blue']].clip(0,500).to_array().plot.imshow(col='time', col_wrap=6)"
   ]
  },
  {
   "cell_type": "code",
   "execution_count": null,
   "metadata": {
    "scrolled": false
   },
   "outputs": [],
   "source": [
    "#ds.where((ds.nbart_blue - ds.nbart_blue.quantile(0.25, dim='time'))<200).isel(time=(np.count_nonzero(~np.isnan(ds.nbart_blue.values), axis=(1,2)))>400*300)#.rolling(time=7, min_periods=3, center=True).median()[['nbart_red','nbart_green','nbart_blue']].clip(0,500).to_array().plot.imshow(col='time', col_wrap=6)\n",
    "fds = ds.where((ds.nbart_blue - ds.nbart_blue.quantile(0.25, dim='time'))<500)\n",
    "fds.isel(time=(np.count_nonzero(~np.isnan(fds.nbart_blue.values), axis=(1,2)))>400*300).rolling(time=7, min_periods=3, center=True).median()[['nbart_red','nbart_green','nbart_blue']].clip(0,500).to_array().plot.imshow(col='time', col_wrap=6)"
   ]
  },
  {
   "cell_type": "code",
   "execution_count": null,
   "metadata": {},
   "outputs": [],
   "source": [
    "ds = xr.concat([ds2018, ds2019], dim='time').sortby('time')\n",
    "ds = ds.where((ds.nbart_blue - ds.nbart_blue.quantile(0.25, dim='time'))<500)\n",
    "#ds = ds.isel(time=(np.count_nonzero(~np.isnan(ds.nbart_blue.values), axis=(1,2)))>400*200)\n",
    "ds.nbart_blue.rolling(time=3, min_periods=2, center=True).var().plot(col='time', col_wrap=6, robust=True)"
   ]
  },
  {
   "cell_type": "code",
   "execution_count": null,
   "metadata": {},
   "outputs": [],
   "source": [
    "(ds.nbart_blue - ds.nbart_blue.quantile(0.25, dim='time')<200).plot(col='time', col_wrap=6, robust=True)"
   ]
  },
  {
   "cell_type": "code",
   "execution_count": null,
   "metadata": {},
   "outputs": [],
   "source": [
    "from skimage.morphology import dilation\n",
    "from skimage.morphology import disk\n",
    "from skimage.morphology import remove_small_objects\n",
    "from sklearn.decomposition import PCA\n",
    "\n",
    "def generate_bmask(ds):\n",
    "    blue = ds.nbart_blue.astype(np.float32) / 1e4\n",
    "\n",
    "    # 1.- Remove images with less than 1000 valid pixels\n",
    "    blue = blue.isel(time=(np.count_nonzero(~np.isnan(blue.values), axis=(1,2)))>1000)\n",
    "\n",
    "    # 2.- Create mask for reflectances with deviations more than 10% from lower quartile\n",
    "    # 2.- Create mask for reflectances with deviations more than 0.1 from lower quartile\n",
    "    \n",
    "    threshold = (blue.quantile(0.25, dim='time')*0.5).clip(min=0.05)\n",
    "    \n",
    "    #bmask = ((blue - blue.quantile(0.25, dim='time'))>.1).values\n",
    "    bmask = ((blue - blue.quantile(0.25, dim='time'))>threshold).values\n",
    "\n",
    "    # 3.- Remove small objects (< 25 pixels) and grow a 9 pixel disk buffer around remaining objects\n",
    "    for i in range(bmask.shape[0]):\n",
    "        bmask[i] = remove_small_objects(bmask[i], 25)\n",
    "        bmask[i] = dilation(bmask[i], disk(9))\n",
    "        bmask[i][np.isnan(blue[i].values)] = False\n",
    "        \n",
    "    # 4.- Wipe frames with more than 50% missing pixels\n",
    "    #bmask[(np.count_nonzero(bmask, axis=(1,2)) / 160000)>.5] = np.nan\n",
    "\n",
    "    return bmask\n",
    "\n",
    "bmask = generate_bmask(ds)\n",
    "\n",
    "ds[['nbart_red','nbart_green','nbart_blue']].where(~bmask).clip(0,2200).to_array().plot.imshow(col='time', col_wrap=6, robust=True)"
   ]
  },
  {
   "cell_type": "code",
   "execution_count": null,
   "metadata": {},
   "outputs": [],
   "source": [
    "blue = ds.nbart_blue.astype(np.float32) / 1e4\n",
    "\n",
    "blue.isel(time=3).plot()"
   ]
  },
  {
   "cell_type": "code",
   "execution_count": null,
   "metadata": {},
   "outputs": [],
   "source": [
    "blue.quantile(0.25, dim='time').plot()"
   ]
  },
  {
   "cell_type": "code",
   "execution_count": null,
   "metadata": {},
   "outputs": [],
   "source": [
    "ds.nbart_blue.where(~bmask).isel(time=3).plot()"
   ]
  },
  {
   "cell_type": "code",
   "execution_count": null,
   "metadata": {},
   "outputs": [],
   "source": []
  }
 ],
 "metadata": {
  "kernelspec": {
   "display_name": "Python 3",
   "language": "python",
   "name": "python3"
  },
  "language_info": {
   "codemirror_mode": {
    "name": "ipython",
    "version": 3
   },
   "file_extension": ".py",
   "mimetype": "text/x-python",
   "name": "python",
   "nbconvert_exporter": "python",
   "pygments_lexer": "ipython3",
   "version": "3.8.5"
  }
 },
 "nbformat": 4,
 "nbformat_minor": 4
}

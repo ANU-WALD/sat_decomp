{
 "cells": [
  {
   "cell_type": "code",
   "execution_count": null,
   "metadata": {},
   "outputs": [],
   "source": [
    "%matplotlib inline\n",
    "\n",
    "import numpy as np\n",
    "import xarray as xr\n",
    "from matplotlib import pyplot as plt\n",
    "\n",
    "from skimage.morphology import dilation\n",
    "from skimage.morphology import disk\n",
    "from skimage.morphology import remove_small_objects\n",
    "\n",
    "ds = xr.open_dataset(\"Murrumbidgee_near_Bundure__MUR_B3.nc\")\n",
    "ds = ds.isel(x=slice(400,800), y=slice(0,400))\n",
    "\n",
    "fds = ds.where((ds.nbart_blue - ds.nbart_blue.quantile(0.25, dim='time'))<1000)\n",
    "fds = fds.isel(time=(np.count_nonzero(~np.isnan(fds.nbart_blue.values), axis=(1,2)))>400*400*.66)\n",
    "fds = fds.rolling(time=7, min_periods=3, center=True).median()\n",
    "fds = fds.reindex({\"time\": ds.time})\n",
    "\n",
    "ids = fds.interpolate_na(dim='time', method='nearest', fill_value='extrapolate')\n",
    "\n",
    "ds[['nbart_red','nbart_green','nbart_blue']].clip(0,2200).to_array().plot.imshow(col='time', col_wrap=6)"
   ]
  },
  {
   "cell_type": "code",
   "execution_count": null,
   "metadata": {},
   "outputs": [],
   "source": [
    "mask = (ds.nbart_blue - ids.nbart_blue) > 100 + ids.nbart_blue/2\n",
    "mask += (ds.nbart_nir_2 - ids.nbart_nir_2) < -600 + ids.nbart_nir_2/16\n",
    "\n",
    "mask = mask.values\n",
    "\n",
    "for i in range(mask.shape[0]):\n",
    "    mask[i] = remove_small_objects(mask[i], 9)\n",
    "    mask[i] = dilation(mask[i], disk(9))\n",
    "\n",
    "ds.where(~mask)[['nbart_red','nbart_green','nbart_blue']].clip(0,2200).to_array().plot.imshow(col='time', col_wrap=6)"
   ]
  },
  {
   "cell_type": "code",
   "execution_count": null,
   "metadata": {},
   "outputs": [],
   "source": [
    "i,j=11,3\n",
    "ds2018 = xr.open_dataset(f\"/data/pca_act/{26*j+i:03d}_2018.nc\")\n",
    "ds2019 = xr.open_dataset(f\"/data/pca_act/{26*j+i:03d}_2019.nc\")\n",
    "\n",
    "ds = xr.concat([ds2018, ds2019], dim='time').sortby('time')\n",
    "\n",
    "fds = ds.where((ds.nbart_blue - ds.nbart_blue.quantile(0.25, dim='time'))<1000)\n",
    "fds = fds.isel(time=(np.count_nonzero(~np.isnan(fds.nbart_blue.values), axis=(1,2)))>400*400*.66)\n",
    "fds = fds.rolling(time=7, min_periods=3, center=True).median()\n",
    "fds = fds.reindex({\"time\": ds.time})\n",
    "\n",
    "ids = fds.interpolate_na(dim='time', method='nearest', fill_value='extrapolate')\n",
    "\n",
    "ds[['nbart_red','nbart_green','nbart_blue']].clip(0,500).to_array().plot.imshow(col='time', col_wrap=6)"
   ]
  },
  {
   "cell_type": "code",
   "execution_count": null,
   "metadata": {},
   "outputs": [],
   "source": [
    "mask = (ds.nbart_blue - ids.nbart_blue) > 100 + ids.nbart_blue/2\n",
    "mask += (ds.nbart_nir_2 - ids.nbart_nir_2) < -600 + ids.nbart_nir_2/16\n",
    "\n",
    "mask = mask.values\n",
    "\n",
    "for i in range(mask.shape[0]):\n",
    "    mask[i] = remove_small_objects(mask[i], 9)\n",
    "    mask[i] = dilation(mask[i], disk(9))\n",
    "\n",
    "ds.where(~mask)[['nbart_red','nbart_green','nbart_blue']].clip(0,500).to_array().plot.imshow(col='time', col_wrap=6)"
   ]
  },
  {
   "cell_type": "code",
   "execution_count": null,
   "metadata": {},
   "outputs": [],
   "source": [
    "i,j = 5,12\n",
    "\n",
    "ds2018 = xr.open_dataset(f\"/data/pca_act/{26*j+i:03d}_2018.nc\")\n",
    "ds2019 = xr.open_dataset(f\"/data/pca_act/{26*j+i:03d}_2019.nc\")\n",
    "\n",
    "ds = xr.concat([ds2018, ds2019], dim='time').sortby('time')\n",
    "\n",
    "fds = ds.where((ds.nbart_blue - ds.nbart_blue.quantile(0.25, dim='time'))<1000)\n",
    "fds = fds.isel(time=(np.count_nonzero(~np.isnan(fds.nbart_blue.values), axis=(1,2)))>400*400*.66)\n",
    "fds = fds.rolling(time=7, min_periods=3, center=True).median()\n",
    "fds = fds.reindex({\"time\": ds.time})\n",
    "\n",
    "ids = fds.interpolate_na(dim='time', method='nearest', fill_value='extrapolate')\n",
    "\n",
    "ds[['nbart_red','nbart_green','nbart_blue']].clip(0,2200).to_array().plot.imshow(col='time', col_wrap=6)"
   ]
  },
  {
   "cell_type": "code",
   "execution_count": null,
   "metadata": {},
   "outputs": [],
   "source": [
    "mask = (ds.nbart_blue - ids.nbart_blue) > 100 + ids.nbart_blue/2\n",
    "mask += (ds.nbart_nir_2 - ids.nbart_nir_2) < -600 + ids.nbart_nir_2/16\n",
    "\n",
    "mask = mask.values\n",
    "\n",
    "for i in range(mask.shape[0]):\n",
    "    mask[i] = remove_small_objects(mask[i], 9)\n",
    "    mask[i] = dilation(mask[i], disk(9))\n",
    "\n",
    "ds.where(~mask)[['nbart_red','nbart_green','nbart_blue']].clip(0,2200).to_array().plot.imshow(col='time', col_wrap=6)"
   ]
  },
  {
   "cell_type": "code",
   "execution_count": null,
   "metadata": {},
   "outputs": [],
   "source": [
    "ds2018 = xr.open_dataset(f\"/data/pca_act/266_2018.nc\")\n",
    "ds2019 = xr.open_dataset(f\"/data/pca_act/266_2019.nc\")\n",
    "\n",
    "ds = xr.concat([ds2018, ds2019], dim='time').sortby('time')\n",
    "\n",
    "fds = ds.where((ds.nbart_blue - ds.nbart_blue.quantile(0.25, dim='time'))<1000)\n",
    "fds = fds.isel(time=(np.count_nonzero(~np.isnan(fds.nbart_blue.values), axis=(1,2)))>400*400*.66)\n",
    "fds = fds.rolling(time=7, min_periods=3, center=True).median()\n",
    "fds = fds.reindex({\"time\": ds.time})\n",
    "\n",
    "ids = fds.interpolate_na(dim='time', method='nearest', fill_value='extrapolate')\n",
    "\n",
    "ds[['nbart_red','nbart_green','nbart_blue']].clip(0,2200).to_array().plot.imshow(col='time', col_wrap=6)"
   ]
  },
  {
   "cell_type": "code",
   "execution_count": null,
   "metadata": {},
   "outputs": [],
   "source": [
    "mask = (ds.nbart_blue - ids.nbart_blue) > 100 + ids.nbart_blue/2\n",
    "mask += (ds.nbart_nir_2 - ids.nbart_nir_2) < -600 + ids.nbart_nir_2/16\n",
    "\n",
    "mask = mask.values\n",
    "\n",
    "for i in range(mask.shape[0]):\n",
    "    mask[i] = remove_small_objects(mask[i], 9)\n",
    "    mask[i] = dilation(mask[i], disk(9))\n",
    "\n",
    "ds.where(~mask)[['nbart_red','nbart_green','nbart_blue']].clip(0,2200).to_array().plot.imshow(col='time', col_wrap=6)"
   ]
  },
  {
   "cell_type": "code",
   "execution_count": null,
   "metadata": {},
   "outputs": [],
   "source": [
    "i"
   ]
  }
 ],
 "metadata": {
  "kernelspec": {
   "display_name": "Python 3",
   "language": "python",
   "name": "python3"
  },
  "language_info": {
   "codemirror_mode": {
    "name": "ipython",
    "version": 3
   },
   "file_extension": ".py",
   "mimetype": "text/x-python",
   "name": "python",
   "nbconvert_exporter": "python",
   "pygments_lexer": "ipython3",
   "version": "3.8.5"
  }
 },
 "nbformat": 4,
 "nbformat_minor": 4
}

{
 "cells": [
  {
   "cell_type": "markdown",
   "metadata": {},
   "source": [
    "## 1.- Data loading:"
   ]
  },
  {
   "cell_type": "code",
   "execution_count": null,
   "metadata": {},
   "outputs": [],
   "source": [
    "%matplotlib inline\n",
    "\n",
    "import numpy as np\n",
    "import xarray as xr\n",
    "from matplotlib import pyplot as plt\n",
    "\n",
    "ds = xr.open_dataset(\"Murrumbidgee_near_Bundure__MUR_B3.nc\")\n",
    "ds = ds.isel(x=slice(400,800), y=slice(0,400))\n",
    "\n",
    "ds[['nbart_red','nbart_green','nbart_blue']].clip(0,2200).to_array().plot.imshow(col='time', col_wrap=6, robust=True)"
   ]
  },
  {
   "cell_type": "code",
   "execution_count": null,
   "metadata": {},
   "outputs": [],
   "source": [
    "### This should be the start of the methodology"
   ]
  },
  {
   "cell_type": "code",
   "execution_count": null,
   "metadata": {},
   "outputs": [],
   "source": [
    "#blue = ds.nbart_blue.astype(np.float32) / 1e4 \n",
    "ds.where((ds.nbart_blue - ds.nbart_blue.quantile(0.25, dim='time'))<1000).rolling(time=7, min_periods=3, center=True).median()[['nbart_red','nbart_green','nbart_blue']].clip(0,2200).to_array().plot.imshow(col='time', col_wrap=6, robust=True)"
   ]
  },
  {
   "cell_type": "code",
   "execution_count": null,
   "metadata": {},
   "outputs": [],
   "source": [
    "from skimage.morphology import dilation\n",
    "from skimage.morphology import disk\n",
    "from skimage.morphology import remove_small_objects\n",
    "from sklearn.decomposition import PCA\n",
    "\n",
    "def generate_bmask(ds):\n",
    "    blue = ds.nbart_blue.astype(np.float32) / 1e4\n",
    "\n",
    "    # 1.- Remove images with less than 1000 valid pixels\n",
    "    blue = blue.isel(time=(np.count_nonzero(~np.isnan(blue.values), axis=(1,2)))>1000)\n",
    "\n",
    "    # 2.- Create mask for reflectances with deviations more than 10% from lower quartile\n",
    "    bmask = ((blue - blue.quantile(0.25, dim='time'))>.1).values\n",
    "\n",
    "    # 3.- Remove small objects (< 25 pixels) and grow a 9 pixel disk buffer around remaining objects\n",
    "    for i in range(bmask.shape[0]):\n",
    "        bmask[i] = remove_small_objects(bmask[i], 25)\n",
    "        bmask[i] = dilation(bmask[i], disk(9))\n",
    "        bmask[i][np.isnan(blue[i].values)] = False\n",
    "        \n",
    "    # 4.- Wipe frames with more than 50% missing pixels\n",
    "    #bmask[(np.count_nonzero(bmask, axis=(1,2)) / 160000)>.5] = np.nan\n",
    "\n",
    "    return bmask\n",
    "\n",
    "\n",
    "bmask = generate_bmask(ds)\n",
    "\n",
    "ds[['nbart_red','nbart_green','nbart_blue']].where(~bmask).clip(0,2200).to_array().plot.imshow(col='time', col_wrap=6, robust=True)"
   ]
  },
  {
   "cell_type": "code",
   "execution_count": null,
   "metadata": {},
   "outputs": [],
   "source": [
    "from skimage.morphology import dilation\n",
    "from skimage.morphology import disk\n",
    "from skimage.morphology import remove_small_objects\n",
    "from sklearn.decomposition import PCA\n",
    "\n",
    "def generate_bmask(ds):\n",
    "    blue = ds.nbart_blue.astype(np.float32) / 1e4\n",
    "\n",
    "    # 1.- Remove images with less than 1000 valid pixels\n",
    "    blue = blue.isel(time=(np.count_nonzero(~np.isnan(blue.values), axis=(1,2)))>1000)\n",
    "    blue = blue.where(blue<.45)\n",
    "\n",
    "    # 2.- Create mask for reflectances with deviations more than 10% from lower quartile\n",
    "    threshold = (blue.quantile(0.5, dim='time')*0.5).clip(min=0.05)\n",
    "    bmask = ((blue - blue.quantile(0.5, dim='time'))>threshold).values\n",
    "\n",
    "    # 3.- Remove small objects (< 25 pixels) and grow a 9 pixel disk buffer around remaining objects\n",
    "    for i in range(bmask.shape[0]):\n",
    "        bmask[i] = remove_small_objects(bmask[i], 25)\n",
    "        bmask[i] = dilation(bmask[i], disk(9))\n",
    "        bmask[i][np.isnan(blue[i].values)] = False\n",
    "        \n",
    "    # 4.- Wipe frames with more than 50% missing pixels\n",
    "    #bmask[(np.count_nonzero(bmask, axis=(1,2)) / 160000)>.5] = np.nan\n",
    "\n",
    "    return bmask\n",
    "\n",
    "\n",
    "bmask = generate_bmask(ds)\n",
    "\n",
    "ds[['nbart_red','nbart_green','nbart_blue']].where(~bmask).clip(0,2200).to_array().plot.imshow(col='time', col_wrap=6, robust=True)"
   ]
  },
  {
   "cell_type": "code",
   "execution_count": null,
   "metadata": {},
   "outputs": [],
   "source": [
    "def generate_tmask(ds):\n",
    "    bmask = generate_bmask(ds)\n",
    "    blue = ds['nbart_blue'].astype(np.float32) / 1e4\n",
    "    blue = blue.where(~bmask)\n",
    "    diff_med_blue = blue - blue.rolling(time=7, min_periods=3, center=True).median()\n",
    "\n",
    "    nir = ds['nbart_nir_1'].astype(np.float32) / 1e4\n",
    "    nir = nir.where(~bmask)\n",
    "    diff_med_nir = nir - nir.rolling(time=7, min_periods=3, center=True).median()\n",
    "    \n",
    "    swir = ds['nbart_swir_2'].astype(np.float32) / 1e4\n",
    "    swir = swir.where(~bmask)\n",
    "    diff_med_swir = swir - swir.rolling(time=7, min_periods=3, center=True).median()\n",
    "\n",
    "    tbmask = np.abs(diff_med_blue.values)>0.03\n",
    "    tnmask = (diff_med_nir.values<-0.1)\n",
    "    tsmask = np.abs(diff_med_swir.values)>0.15\n",
    "    \n",
    "    tmask = tbmask + tnmask + tsmask\n",
    "    \n",
    "    print(\"-b-\", np.count_nonzero(tbmask*tmask)/np.count_nonzero(tmask))\n",
    "    print(\"-n-\", np.count_nonzero(tnmask*tmask)/np.count_nonzero(tmask))\n",
    "    print(\"-i-\", np.count_nonzero(tsmask*tmask)/np.count_nonzero(tmask))\n",
    "    \n",
    "    print(\"-ub-\", np.count_nonzero(tbmask*np.logical_not(tnmask+tsmask))/np.count_nonzero(tmask))\n",
    "    print(\"-un-\", np.count_nonzero(tnmask*np.logical_not(tbmask+tsmask))/np.count_nonzero(tmask))\n",
    "    print(\"-ui-\", np.count_nonzero(tsmask*np.logical_not(tbmask+tnmask))/np.count_nonzero(tmask))\n",
    "\n",
    "    for i in range(tmask.shape[0]):\n",
    "        tmask[i] = remove_small_objects(tmask[i], 9)\n",
    "        tmask[i] = dilation(tmask[i], disk(9))\n",
    "\n",
    "    return tmask\n",
    "\n",
    "tmask = generate_tmask(ds)\n",
    "\n",
    "ds[['nbart_red','nbart_green','nbart_blue']].where(~tmask*~bmask).clip(0,2200).to_array().plot.imshow(col='time', col_wrap=6, robust=True)"
   ]
  },
  {
   "cell_type": "markdown",
   "metadata": {},
   "source": [
    "### t_blue mask contributes 56% unique values into the final mask (69% of the final mask)\n",
    "### t_swir2 mask contributes 12% unique values into the final mask (37% of the final mask)\n",
    "### t_nir1 mask contributes 7% unique values into the final mask (28% of the final mask)"
   ]
  },
  {
   "cell_type": "code",
   "execution_count": null,
   "metadata": {},
   "outputs": [],
   "source": [
    "import xarray as xr\n",
    "import numpy as np\n",
    "from skimage.morphology import dilation\n",
    "from skimage.morphology import disk\n",
    "from skimage.morphology import remove_small_objects\n",
    "from sklearn.decomposition import PCA\n",
    "\n",
    "\n",
    "def generate_blue_mask(ds):\n",
    "    blue = ds.nbart_blue.astype(np.float32) / 1e4\n",
    "\n",
    "    # 1.- Remove images with less than 1000 valid pixels\n",
    "    blue = blue.isel(time=(np.count_nonzero(~np.isnan(blue.values), axis=(1,2)))>1000)\n",
    "\n",
    "    # 2.- Create mask for reflectances with deviations more than 10% from lower quartile\n",
    "    qmask = ((blue - blue.quantile(0.25, dim='time'))>.1).values\n",
    "\n",
    "    # 3.- Remove small objects (< 36 pixels) and grow a 15 pixel disk buffer around remaining objects\n",
    "    for i in range(qmask.shape[0]):\n",
    "        qmask[i] = remove_small_objects(qmask[i], 36)\n",
    "        qmask[i] = dilation(qmask[i], disk(15))\n",
    "        qmask[i][np.isnan(blue[i].values)] = False\n",
    "\n",
    "    # 4.- Apply mask\n",
    "    blue = blue.where(~qmask)\n",
    "\n",
    "    # 5.- Discard frames with more than 33% missing pixels (relative to the initial valid pixels)\n",
    "    #blue = blue.isel(time=(np.count_nonzero(qmask, axis=(1,2)) / (1+np.count_nonzero(~np.isnan(blue.values), axis=(1,2))))<.33)\n",
    "    \n",
    "    # 5.- Wipe frames with more than 33% missing pixels\n",
    "    blue[(np.count_nonzero(qmask, axis=(1,2)) / (1+np.count_nonzero(~np.isnan(blue.values), axis=(1,2))))>.33] = np.nan\n",
    "    \n",
    "    # 6.- Compute temporal variability\n",
    "    #temp_var = blue - blue.rolling(time=7, min_periods=3, center=True).median()\n",
    "    \n",
    "    # 7.- Define temporal variability threshold of 3%\n",
    "    #tmask = np.abs(temp_var.values)>0.03\n",
    "    \n",
    "    # 8.- Grow a buffer around missing data\n",
    "    #for i in range(tmask.shape[0]):\n",
    "        #tmask[i] = dilation(tmask[i], disk(5))\n",
    "    \n",
    "    # 9.- Apply temporal mask\n",
    "    #blue = blue.where(~tmask)\n",
    "    \n",
    "    # 10.- Wipe frames with more than 33% missing pixels\n",
    "    #blue[np.count_nonzero(np.isnan(blue.values), axis=(1,2))>.33*400*400] = np.nan\n",
    "    \n",
    "    return blue\n",
    "\n",
    "\n",
    "def generate_ts_mask(ds, var_name, thrs):\n",
    "\n",
    "    da = ds[var_name].astype(np.float32) / 1e4\n",
    "    \n",
    "    blue = generate_blue_mask(ds)\n",
    "    da = da.sel(time=blue.time).where(~np.isnan(blue))\n",
    "    \n",
    "    # 6.- Compute temporal variability\n",
    "    ts_var = da - da.rolling(time=7, min_periods=3, center=True).median()\n",
    "    \n",
    "    # 7.- Define temporal variability threshold of 3%\n",
    "    tmask = np.abs(ts_var.values)>thrs\n",
    "    \n",
    "    # 8.- Grow a buffer around missing data\n",
    "    for i in range(tmask.shape[0]):\n",
    "        tmask[i] = dilation(tmask[i], disk(5))\n",
    "        \n",
    "    return tmask\n",
    "\n",
    "    \n",
    "    # 9.- Apply temporal mask\n",
    "    da = da.where(~tmask)\n",
    "    \n",
    "    # 10.- Wipe frames with more than 33% missing pixels\n",
    "    da[np.count_nonzero(np.isnan(da.values), axis=(1,2))>.33*400*400] = np.nan\n",
    "    \n",
    "    return da\n",
    "\n",
    "\n",
    "def stack_dataset(ds):\n",
    "    stack = np.empty((0,400,400))\n",
    "    for band_name in ds:\n",
    "        band = ds[band_name].astype(np.float32) / 1e4\n",
    "\n",
    "        # 1. Apply blue mask\n",
    "        band = band.sel(time=blue.time).where(~np.isnan(blue))\n",
    "\n",
    "        # 2.- Interpolate NaNs over time linearly\n",
    "        band = band.interpolate_na(dim='time')\n",
    "\n",
    "        # 3.- Interpolate NaNs at the start and end using nearest neighbor\n",
    "        band = band.interpolate_na(dim='time', method='nearest', fill_value='extrapolate')\n",
    "\n",
    "        # 4.- Apply median rolling filter along time (window=3)\n",
    "        band = band.rolling(time=3, min_periods=1).median()\n",
    "\n",
    "        stack = np.append(stack, band, axis=0)\n",
    "\n",
    "    return stack.reshape(stack.shape[0], -1)"
   ]
  },
  {
   "cell_type": "code",
   "execution_count": null,
   "metadata": {},
   "outputs": [],
   "source": [
    "%matplotlib inline\n",
    "\n",
    "import numpy as np\n",
    "import xarray as xr\n",
    "from matplotlib import pyplot as plt\n",
    "\n",
    "ds = xr.open_dataset(\"Murrumbidgee_near_Bundure__MUR_B3.nc\")\n",
    "\n",
    "ds = ds.isel(x=slice(400,800), y=slice(0,400))\n",
    "\n",
    "blue = generate_blue_mask(ds)\n",
    "\n",
    "#band = ds['nbart_red'].astype(np.float32) / 1e4\n",
    "#band = band.sel(time=blue.time).where(~np.isnan(blue))\n",
    "\n",
    "#band.plot(col='time', col_wrap=6)"
   ]
  },
  {
   "cell_type": "code",
   "execution_count": null,
   "metadata": {},
   "outputs": [],
   "source": [
    "nir_ts_mask = generate_ts_mask(ds, 'nbart_nir_1', 0.05)\n",
    "swir_ts_mask = generate_ts_mask(ds, 'nbart_swir_2', 0.05)\n",
    "blue_ts_mask = generate_ts_mask(ds, 'nbart_blue', 0.03)"
   ]
  },
  {
   "cell_type": "code",
   "execution_count": null,
   "metadata": {},
   "outputs": [],
   "source": [
    "i = 19\n",
    "rgb = np.dstack((nir_ts_mask[i],swir_ts_mask[i],blue_ts_mask[i]))\n",
    "\n",
    "plt.imshow(rgb.astype(np.float32))"
   ]
  },
  {
   "cell_type": "code",
   "execution_count": null,
   "metadata": {},
   "outputs": [],
   "source": []
  },
  {
   "cell_type": "code",
   "execution_count": null,
   "metadata": {},
   "outputs": [],
   "source": [
    "plt.imshow(nir_ts_mask[19], cmap='Reds')"
   ]
  },
  {
   "cell_type": "code",
   "execution_count": null,
   "metadata": {},
   "outputs": [],
   "source": [
    "band = ds['nbart_swir_2'].astype(np.float32) / 1e4\n",
    "band = band.sel(time=blue.time).where(~np.isnan(blue))\n",
    "\n",
    "band.plot(col='time', col_wrap=6)"
   ]
  },
  {
   "cell_type": "code",
   "execution_count": null,
   "metadata": {},
   "outputs": [],
   "source": [
    "ds[['nbart_red','nbart_green','nbart_blue']].clip(0,3500).to_array().plot.imshow(col='time', col_wrap=6, robust=True)"
   ]
  },
  {
   "cell_type": "code",
   "execution_count": null,
   "metadata": {
    "scrolled": true
   },
   "outputs": [],
   "source": [
    "from scipy.stats.mstats import rankdata\n",
    "\n",
    "ranked = rankdata(blue.values, axis=0, use_missing=False)\n",
    "ranked[np.isnan(blue.values)] = np.nan\n",
    "\n",
    "ds['ranked'] = (['time','y','x'], ranked)\n",
    "\n",
    "ds.ranked.plot(col='time', col_wrap=6, cmap='seismic', add_colorbar=False)"
   ]
  },
  {
   "cell_type": "code",
   "execution_count": null,
   "metadata": {},
   "outputs": [],
   "source": [
    "blue = ds.nbart_blue.astype(np.float32) / 1e4\n",
    "blue = blue.where(~bmask)\n",
    "\n",
    "ds['diff_med_blue'] = blue - blue.rolling(time=7, min_periods=3, center=True).median()\n",
    "ds.diff_med_blue.plot(col='time', col_wrap=6, cmap='seismic', add_colorbar=False)"
   ]
  },
  {
   "cell_type": "code",
   "execution_count": null,
   "metadata": {},
   "outputs": [],
   "source": [
    "nir = ds['nbart_nir_1'].astype(np.float32) / 1e4\n",
    "nir = nir.where(~bmask)\n",
    "\n",
    "ds['diff_med_nir'] = nir - nir.rolling(time=7, min_periods=3, center=True).median()\n",
    "ds.diff_med_nir.plot(col='time', col_wrap=6, cmap='seismic', add_colorbar=False)"
   ]
  },
  {
   "cell_type": "code",
   "execution_count": null,
   "metadata": {},
   "outputs": [],
   "source": [
    "swir = ds['nbart_swir_2'].astype(np.float32) / 1e4\n",
    "swir = swir.where(~bmask)\n",
    "\n",
    "ds['diff_med_swir'] = swir - swir.rolling(time=7, min_periods=3, center=True).median()\n",
    "ds.diff_med_swir.plot(col='time', col_wrap=6, cmap='seismic', add_colorbar=False)"
   ]
  },
  {
   "cell_type": "code",
   "execution_count": null,
   "metadata": {},
   "outputs": [],
   "source": [
    "ds['diff_med_swir_th'] = (['time','y','x'], abs(ds['diff_med_swir'].values)>0.15)\n",
    "\n",
    "ds.diff_med_swir_th.plot(col='time', col_wrap=6, add_colorbar=False)"
   ]
  },
  {
   "cell_type": "code",
   "execution_count": null,
   "metadata": {},
   "outputs": [],
   "source": [
    "ds['diff_med_blue_th'] = (['time','y','x'], np.abs(ds['diff_med_blue'].values)>0.03)\n",
    "\n",
    "ds.diff_med_blue_th.plot(col='time', col_wrap=6, add_colorbar=False)"
   ]
  },
  {
   "cell_type": "code",
   "execution_count": null,
   "metadata": {},
   "outputs": [],
   "source": [
    "import numpy as np\n",
    "import xarray as xr\n",
    "from matplotlib import pyplot as plt\n",
    "\n",
    "ds = xr.open_dataset(\"Murrumbidgee_near_Bundure__MUR_B3.nc\")\n",
    "ds = ds.isel(x=slice(400,800), y=slice(0,400))\n",
    "\n",
    "blue = generate_blue_mask(ds)\n",
    "diff_med_blue = blue - blue.rolling(time=7, min_periods=3, center=True).median()\n",
    "\n",
    "nir = ds['nbart_nir_1'].astype(np.float32) / 1e4\n",
    "nir = nir.where(~np.isnan(blue))\n",
    "\n",
    "diff_med_nir = nir - nir.rolling(time=7, min_periods=3, center=True).median()\n",
    "\n",
    "\n"
   ]
  },
  {
   "cell_type": "code",
   "execution_count": null,
   "metadata": {},
   "outputs": [],
   "source": [
    "tmask = (np.abs(diff_med_blue.values)>0.03) + (diff_med_nir.values<-0.1)\n",
    "\n",
    "for i in range(tmask.shape[0]):\n",
    "        tmask[i] = remove_small_objects(tmask[i], 9)\n",
    "        tmask[i] = dilation(tmask[i], disk(9))\n",
    "\n",
    "ds['tmask'] = (['time','y','x'], tmask)\n",
    "\n",
    "ds.tmask.plot(col='time', col_wrap=6, add_colorbar=False)"
   ]
  },
  {
   "cell_type": "code",
   "execution_count": null,
   "metadata": {},
   "outputs": [],
   "source": [
    "qmask = np.abs(ds['diff_med'].values)>0.03\n",
    "\n",
    "for i in range(qmask.shape[0]):\n",
    "        qmask[i] = dilation(qmask[i], disk(5))\n",
    "        #qmask[i][np.isnan(blue[i].values)] = False\n",
    "        \n",
    "ds['diff_med_th_exp'] = (['time','y','x'], qmask)\n",
    "\n",
    "ds.diff_med_th_exp.plot(col='time', col_wrap=6, add_colorbar=False)"
   ]
  },
  {
   "cell_type": "code",
   "execution_count": null,
   "metadata": {},
   "outputs": [],
   "source": [
    "plt.figure(figsize=(20,10))\n",
    "\n",
    "ax = plt.gca()\n",
    "for _x in np.arange(0, 140, 6):\n",
    "    ax.axvline(x=_x, ls='--',color='black')\n",
    "    \n",
    "plt.plot(np.vstack((mean,std)).T, 'o')"
   ]
  },
  {
   "cell_type": "code",
   "execution_count": null,
   "metadata": {},
   "outputs": [],
   "source": [
    "plt.figure(figsize=(20,10))\n",
    "\n",
    "ax = plt.gca()\n",
    "for _x in np.arange(0, 140, 6):\n",
    "    ax.axvline(x=_x, ls='--',color='black')\n",
    "    \n",
    "ax.axhline(y=0.005, ls='--',color='black')\n",
    "    \n",
    "plt.plot(std, 'o')"
   ]
  },
  {
   "cell_type": "code",
   "execution_count": null,
   "metadata": {},
   "outputs": [],
   "source": []
  }
 ],
 "metadata": {
  "kernelspec": {
   "display_name": "Python 3",
   "language": "python",
   "name": "python3"
  },
  "language_info": {
   "codemirror_mode": {
    "name": "ipython",
    "version": 3
   },
   "file_extension": ".py",
   "mimetype": "text/x-python",
   "name": "python",
   "nbconvert_exporter": "python",
   "pygments_lexer": "ipython3",
   "version": "3.8.5"
  }
 },
 "nbformat": 4,
 "nbformat_minor": 4
}

{
 "cells": [
  {
   "cell_type": "code",
   "execution_count": null,
   "metadata": {},
   "outputs": [],
   "source": [
    "%matplotlib inline\n",
    "\n",
    "import numpy as np\n",
    "import xarray as xr\n",
    "from matplotlib import pyplot as plt\n",
    "from pyproj import Transformer\n",
    "\n",
    "wgs84_proj = \"epsg:4326\"\n",
    "aea_proj = \"epsg:3577\"\n",
    "wm_proj = \"epsg:3857\"\n",
    "\n",
    "def geotransform(i,j):\n",
    "    return (1506645+i*4000,10,0,-3932965-j*4000,0,-10)\n",
    "\n",
    "def tiles(x,y):\n",
    "    return int((x-1506645)/4000.), int((-3932965-y)/4000.)\n",
    "\n",
    "def bbox2tiles(bbox):\n",
    "    transformer = Transformer.from_crs(wm_proj, aea_proj)\n",
    "    xs, ys = transformer.transform([bbox[0],bbox[2]], [bbox[3],bbox[1]])\n",
    "\n",
    "    i0,j0=tiles(xs[0],ys[0])\n",
    "    i1,j1=tiles(xs[1],ys[1])\n",
    "    return (i0,i1,j0,j1)\n",
    "\n",
    "#bbox=[16600899.551087722,-4207094.0368161,16603345.535992848,-4204648.051910976]\n",
    "bbox=[16605791.520897973,-4202202.06700585,16608237.505803099,-4199756.082100724]\n",
    "i0,i1,j0,j1 = bbox2tiles(bbox)\n",
    "\n",
    "im_size = 256\n",
    "\n",
    "pixel_size = ((bbox[2] - bbox[0]) / im_size, (bbox[3] - bbox[1]) / im_size)\n",
    "    \n",
    "tile_xs = np.arange(bbox[0], bbox[2], pixel_size[0])\n",
    "tile_ys = np.arange(bbox[3], bbox[1], -pixel_size[1])\n",
    " \n",
    "transformer = Transformer.from_crs(wm_proj, aea_proj)\n",
    "aea_xs, aea_ys = transformer.transform(tile_xs, tile_ys)\n",
    "\n",
    "arr = np.zeros((im_size,im_size), dtype=np.float32)\n",
    "for i in range(i0, i1+1):\n",
    "    for j in range(j0, j1+1):\n",
    "        print(i, j)\n",
    "        fname = f\"/data/pca_act/{26*i+j:03d}_2018.nc\"\n",
    "        im = xr.open_dataset(fname).nbart_blue.isel(time=2).values/1e4\n",
    "        geot = geotransform(i,j)\n",
    "\n",
    "        vi = np.round((aea_xs - geot[0]) / geot[1]).astype(np.int64)\n",
    "        vi[(vi>399) | (vi<0)] = -1\n",
    "        vj = np.round((aea_ys - geot[3]) / geot[5]).astype(np.int64)\n",
    "        vj[(vj>399) | (vj<0)] = -1\n",
    "\n",
    "        for pj in range(im_size):\n",
    "            for pi in range(im_size):\n",
    "                if vi[pi] < 0 or vj[pj] < 0:\n",
    "                    continue\n",
    "                arr[pj,pi] = im[vj[pj],vi[pi]]\n",
    "            \n",
    "            \n",
    "plt.imshow(arr)"
   ]
  },
  {
   "cell_type": "code",
   "execution_count": null,
   "metadata": {},
   "outputs": [],
   "source": [
    "import torch \n",
    "import torch.nn as nn\n",
    "\n",
    "device = torch.device(\"cpu\")\n",
    "\n",
    "class AE(nn.Module):\n",
    "    def __init__(self, n_comps, n_coeffs):\n",
    "        super(AE, self).__init__()\n",
    "        self.n_coeffs = n_coeffs\n",
    "        self.n_comps = n_comps\n",
    "        self.D = nn.Linear(1, self.n_comps*404*404, bias=False)\n",
    "        self.conv1 = nn.Conv2d(self.n_comps, 2*self.n_comps, kernel_size=5, bias=False)\n",
    "        self.coeffs = nn.Linear(1, 2*self.n_comps*self.n_coeffs, bias=False)\n",
    "        \n",
    "    def forward(self, x):\n",
    "        base = self.D(x)\n",
    "        conv1 =  torch.tanh(self.conv1(base.reshape(1, self.n_comps, 404, 404)))   \n",
    "        coeffs = self.coeffs(x).view(2*self.n_comps, self.n_coeffs)\n",
    "        #return torch.einsum('ik,kj->ji', conv1.view(400*400, 2*self.n_comps), coeffs)\n",
    "        return torch.einsum('ki,kj->ji', conv1.view(2*self.n_comps,400*400), coeffs)\n",
    "    "
   ]
  },
  {
   "cell_type": "code",
   "execution_count": null,
   "metadata": {},
   "outputs": [],
   "source": [
    "def get_nn_image(i,j,d):\n",
    "    net = torch.load(f\"{j:02d}_{i:02d}_net.pt\", map_location='cpu')\n",
    "    net.eval()\n",
    "    input = torch.Tensor([1])\n",
    "    return net(input).detach().numpy().reshape(-1,400,400) + np.load(f\"{j:02d}_{i:02d}_mean.npy\").reshape(400,400)\n",
    "    \n",
    "im = get_nn_image(11,4,0)\n",
    "im.shape\n",
    "\n",
    "plt.imshow(im[0,:,:])"
   ]
  },
  {
   "cell_type": "code",
   "execution_count": null,
   "metadata": {},
   "outputs": [],
   "source": [
    "from numpy.lib.stride_tricks import as_strided\n",
    "\n",
    "def conv2d(a, b):\n",
    "    a = as_strided(a,(len(a),a.shape[1]-len(b)+1,a.shape[2]-b.shape[1]+1,len(b),\n",
    "                      b.shape[1],a.shape[3]),a.strides[:3]+a.strides[1:])\n",
    "    \n",
    "    return np.tensordot(a, b, axes=3)\n",
    "\n",
    "def get_nn_image(i,j,d):\n",
    "    net = torch.load(f\"{j:02d}_{i:02d}_net.pt\", map_location='cpu')\n",
    "    net.eval()\n",
    "    base = net.D.weight.detach().numpy().reshape(1,12,404,404)\n",
    "    ker = net.conv1.weight.detach().numpy()\n",
    "    base = np.moveaxis(base,1,-1)\n",
    "    ker = np.moveaxis(ker,1,-1)\n",
    "    ker = np.moveaxis(ker,0,-1)\n",
    "    \n",
    "    conv1_dot = np.tanh(conv2d(base, ker))\n",
    "    coeffs = net.coeffs.weight.detach().numpy().reshape(24,-1)[:,d].flatten()\n",
    "    res = np.einsum('ik,kj->ji', conv1_dot.reshape(-1,24), coeffs.reshape(24,-1)).reshape(400,400)\n",
    "    \n",
    "    return res + np.load(f\"{j:02d}_{i:02d}_meanf32.npy\").reshape(400,400)\n",
    "    \n",
    "im = get_nn_image(11,4,0)\n",
    "im.shape\n",
    "\n",
    "plt.imshow(im)"
   ]
  },
  {
   "cell_type": "code",
   "execution_count": null,
   "metadata": {},
   "outputs": [],
   "source": [
    "bbox=[16600899.551087722,-4189972.1424802206,16603345.535992848,-4187526.1575750955]\n",
    "i0,i1,j0,j1 = bbox2tiles(bbox)\n",
    "\n",
    "im_size = 256\n",
    "\n",
    "pixel_size = ((bbox[2] - bbox[0]) / im_size, (bbox[3] - bbox[1]) / im_size)\n",
    "    \n",
    "tile_xs = np.arange(bbox[0], bbox[2], pixel_size[0])\n",
    "tile_ys = np.arange(bbox[3], bbox[1], -pixel_size[1])\n",
    " \n",
    "transformer = Transformer.from_crs(wm_proj, aea_proj)\n",
    "aea_xs, aea_ys = transformer.transform(tile_xs, tile_ys)\n",
    "\n",
    "arr = np.zeros((im_size,im_size), dtype=np.float32)\n",
    "for i in range(i0, i1+1):\n",
    "    for j in range(j0, j1+1):\n",
    "        print(i, j)\n",
    "        im = get_nn_image(i,j,0)\n",
    "        geot = geotransform(i,j)\n",
    "\n",
    "        vi = np.round((aea_xs - geot[0]) / geot[1]).astype(np.int64)\n",
    "        vi[(vi>399) | (vi<0)] = -1\n",
    "        vj = np.round((aea_ys - geot[3]) / geot[5]).astype(np.int64)\n",
    "        vj[(vj>399) | (vj<0)] = -1\n",
    "\n",
    "        for pj in range(im_size):\n",
    "            for pi in range(im_size):\n",
    "                if vi[pi] < 0 or vj[pj] < 0:\n",
    "                    continue\n",
    "                arr[pj,pi] = im[vj[pj],vi[pi]]\n",
    "            \n",
    "            \n",
    "plt.imshow(arr)"
   ]
  },
  {
   "cell_type": "markdown",
   "metadata": {},
   "source": [
    "### Standalone functionality"
   ]
  },
  {
   "cell_type": "code",
   "execution_count": 36,
   "metadata": {},
   "outputs": [
    {
     "name": "stdout",
     "output_type": "stream",
     "text": [
      "0.7593606 0.011026533 float32\n",
      "255 61 uint8\n"
     ]
    },
    {
     "data": {
      "text/plain": [
       "<matplotlib.image.AxesImage at 0x7f5fbf0f42b0>"
      ]
     },
     "execution_count": 36,
     "metadata": {},
     "output_type": "execute_result"
    },
    {
     "data": {
      "image/png": "[encoded data removed]",
      "text/plain": [
       "<Figure size 432x288 with 1 Axes>"
      ]
     },
     "metadata": {
      "needs_background": "light"
     },
     "output_type": "display_data"
    }
   ],
   "source": [
    "%matplotlib inline\n",
    "from matplotlib import pyplot as plt\n",
    "\n",
    "import numpy as np\n",
    "from numpy.lib.stride_tricks import as_strided\n",
    "from pyproj import Transformer\n",
    "import io\n",
    "import imageio\n",
    "\n",
    "from google.cloud import storage\n",
    "\n",
    "storage_client = storage.Client()\n",
    "bucket = storage_client.get_bucket(\"sentinel2_act\")\n",
    "\n",
    "aea_proj = \"epsg:3577\"\n",
    "wm_proj = \"epsg:3857\"\n",
    "\n",
    "def geotransform(i,j):\n",
    "    return (1506645+i*4000,10,0,-3932965-j*4000,0,-10)\n",
    "\n",
    "def tiles(x,y):\n",
    "    return int((x-1506645)/4000.), int((-3932965-y)/4000.)\n",
    "\n",
    "def bbox2tiles(bbox, im_size):\n",
    "    pixel_size = ((bbox[2] - bbox[0]) / im_size, (bbox[3] - bbox[1]) / im_size)\n",
    "\n",
    "    tile_xs = np.arange(bbox[0], bbox[2], pixel_size[0])\n",
    "    tile_ys = np.arange(bbox[3], bbox[1], -pixel_size[1])\n",
    "    tile_xs, tile_ys = np.meshgrid(tile_xs, tile_ys)\n",
    "    transformer = Transformer.from_crs(wm_proj, aea_proj)\n",
    "    aea_xs, aea_ys = transformer.transform(tile_xs.T, tile_ys.T)\n",
    "\n",
    "    i0,j0=tiles(aea_xs.min(),aea_ys.max())\n",
    "    i1,j1=tiles(aea_xs.max(),aea_ys.min())\n",
    "    \n",
    "    return (i0,i1,j0,j1,aea_xs,aea_ys)\n",
    "\n",
    "def conv2d(a, b):\n",
    "    a = as_strided(a,(len(a),a.shape[1]-len(b)+1,a.shape[2]-b.shape[1]+1,len(b),\n",
    "                      b.shape[1],a.shape[3]),a.strides[:3]+a.strides[1:])\n",
    "    return np.tensordot(a, b, axes=3)\n",
    "\n",
    "def compose_tile(i,j,t,bands=[0,1,2]):\n",
    "    \n",
    "    blob = bucket.blob(f\"{j:02d}_{i:02d}_coeffsnp.npy\")\n",
    "    f = io.BytesIO(blob.download_as_string())\n",
    "    f.seek(0)\n",
    "    coef = np.load(f).reshape(24,7,-1)[:,bands,t:t+1]\n",
    "    \n",
    "    blob = bucket.blob(f\"{j:02d}_{i:02d}_meanf32.npy\")\n",
    "    f = io.BytesIO(blob.download_as_string())\n",
    "    f.seek(0)\n",
    "    mean = np.load(f).reshape(400,400)\n",
    "    \n",
    "    blob = bucket.blob(f\"{j:02d}_{i:02d}_basenp.npy\")\n",
    "    f = io.BytesIO(blob.download_as_string())\n",
    "    f.seek(0)\n",
    "    base = np.load(f)\n",
    "    \n",
    "    blob = bucket.blob(f\"{j:02d}_{i:02d}_kernp.npy\")\n",
    "    f = io.BytesIO(blob.download_as_string())\n",
    "    f.seek(0)\n",
    "    ker = np.load(f)\n",
    "    \n",
    "    res = np.einsum('ik,kj->ji', np.tanh(conv2d(base, ker)).reshape(-1,24), coef.reshape(24,-1)).reshape(-1,400,400)\n",
    "    mean = mean + res\n",
    "    return np.moveaxis(mean, 0, -1)\n",
    "\n",
    "def get_tile(bbox,im_size,bands,t):\n",
    "    i0,i1,j0,j1,aea_xs,aea_ys = bbox2tiles(bbox,im_size)\n",
    "\n",
    "    arr = np.zeros((im_size,im_size,len(bands)), dtype=np.float32)\n",
    "    for i in range(i0, i1+1):\n",
    "        for j in range(j0, j1+1):\n",
    "            im = compose_tile(j,i,t,bands)\n",
    "            \n",
    "            geot = geotransform(i,j)\n",
    "\n",
    "            vi = np.round((aea_xs - geot[0]) / geot[1]).astype(np.int64)\n",
    "            vi[(vi>399) | (vi<0)] = -1\n",
    "            vj = np.round((aea_ys - geot[3]) / geot[5]).astype(np.int64)\n",
    "            vj[(vj>399) | (vj<0)] = -1\n",
    "\n",
    "            for pj in range(im_size):\n",
    "                for pi in range(im_size):\n",
    "                    if vi[pi,pj] < 0 or vj[pi,pj] < 0:\n",
    "                        continue\n",
    "                    arr[pj,pi] = im[vj[pi,pj],vi[pi,pj]]\n",
    "                    \n",
    "    return arr\n",
    "\n",
    "#bbox=[16600899.551087722,-4207094.0368161,16603345.535992848,-4204648.051910976]\n",
    "bbox=[16605791.520897973,-4202202.06700585,16608237.505803099,-4199756.082100724]\n",
    "\n",
    "arr = get_tile(bbox,256,[0,3],0)\n",
    "\n",
    "### ndvi\n",
    "arr = (arr[:,:,1]-arr[:,:,0])/(arr[:,:,1]+arr[:,:,0])\n",
    "arr = np.clip(arr, a_min=0, a_max=1)\n",
    "print(arr.max(), arr.min(), arr.dtype)\n",
    "arr = (plt.cm.summer_r(arr)*255).astype(np.uint8)\n",
    "print(arr.max(), arr.min(), arr.dtype)\n",
    "\n",
    "### RGB\n",
    "#arr = (np.clip(arr, a_min=0, a_max=0.5)*2*255).astype(np.uint8)\n",
    "\n",
    "png_file = io.BytesIO()\n",
    "\n",
    "imageio.imwrite(png_file, arr, format='png')\n",
    "imageio.imwrite(\"a.png\", arr, format='png')\n",
    "png_file.seek(0)\n",
    "            \n",
    "            \n",
    "plt.imshow(arr)"
   ]
  },
  {
   "cell_type": "code",
   "execution_count": null,
   "metadata": {},
   "outputs": [],
   "source": [
    "def bbox2tiles(bbox, im_size):\n",
    "    pixel_size = ((bbox[2] - bbox[0]) / im_size, (bbox[3] - bbox[1]) / im_size)\n",
    "\n",
    "    tile_xs = np.arange(bbox[0], bbox[2], pixel_size[0])\n",
    "    tile_ys = np.arange(bbox[3], bbox[1], -pixel_size[1])\n",
    "    tile_xs, tile_ys = np.meshgrid(tile_xs, tile_ys)\n",
    "    transformer = Transformer.from_crs(wm_proj, aea_proj)\n",
    "    aea_xs, aea_ys = transformer.transform(tile_xs.T, tile_ys.T)\n",
    "\n",
    "    i0,j0=tiles(aea_xs.min(),aea_ys.max())\n",
    "    i1,j1=tiles(aea_xs.max(),aea_ys.min())\n",
    "    \n",
    "    return (i0,i1,j0,j1)#,aea_xs,aea_ys)\n",
    "\n",
    "def bbox2tiles2(bbox):\n",
    "    transformer = Transformer.from_crs(wm_proj, aea_proj)\n",
    "    xs, ys = transformer.transform([bbox[0],bbox[2]], [bbox[3],bbox[1]])\n",
    "\n",
    "    i0,j0=tiles(xs[0],ys[0])\n",
    "    i1,j1=tiles(xs[1],ys[1])\n",
    "    return (i0,i1,j0,j1)\n",
    "\n",
    "bbox=[16605791.520897973,-4202202.06700585,16608237.505803099,-4199756.082100724]\n",
    "\n",
    "bbox2tiles(bbox,256),\\\n",
    "bbox2tiles2(bbox)"
   ]
  },
  {
   "cell_type": "code",
   "execution_count": null,
   "metadata": {},
   "outputs": [],
   "source": [
    "plt.imshow(y.T)"
   ]
  },
  {
   "cell_type": "code",
   "execution_count": 12,
   "metadata": {},
   "outputs": [
    {
     "data": {
      "text/plain": [
       "424"
      ]
     },
     "execution_count": 12,
     "metadata": {},
     "output_type": "execute_result"
    }
   ],
   "source": [
    "from datetime import datetime\n",
    "\n",
    "date = datetime.strptime(\"2019-02-28T00:00:00.000Z\", \"%Y-%m-%dT%H:%M:%S.%fZ\")\n",
    "(date.year-2018)*365+date.timetuple().tm_yday"
   ]
  },
  {
   "cell_type": "code",
   "execution_count": 14,
   "metadata": {},
   "outputs": [
    {
     "data": {
      "text/plain": [
       "4"
      ]
     },
     "execution_count": 14,
     "metadata": {},
     "output_type": "execute_result"
    }
   ],
   "source": [
    "layers = {\"tc\": [[0,1,2],4],\"fc1\": [[3,1,2],2]}\n",
    "\n",
    "layers[\"tc\"][1]"
   ]
  },
  {
   "cell_type": "code",
   "execution_count": 16,
   "metadata": {},
   "outputs": [
    {
     "data": {
      "text/plain": [
       "False"
      ]
     },
     "execution_count": 16,
     "metadata": {},
     "output_type": "execute_result"
    }
   ],
   "source": [
    "\"tca\" in layers"
   ]
  },
  {
   "cell_type": "code",
   "execution_count": 34,
   "metadata": {},
   "outputs": [
    {
     "data": {
      "text/plain": [
       "(0.0039215686274509665, 0.5019607843137255, 0.4, 1.0)"
      ]
     },
     "execution_count": 34,
     "metadata": {},
     "output_type": "execute_result"
    }
   ],
   "source": [
    "plt.cm.summer_r(254)"
   ]
  },
  {
   "cell_type": "code",
   "execution_count": null,
   "metadata": {},
   "outputs": [],
   "source": []
  }
 ],
 "metadata": {
  "kernelspec": {
   "display_name": "Python 3",
   "language": "python",
   "name": "python3"
  },
  "language_info": {
   "codemirror_mode": {
    "name": "ipython",
    "version": 3
   },
   "file_extension": ".py",
   "mimetype": "text/x-python",
   "name": "python",
   "nbconvert_exporter": "python",
   "pygments_lexer": "ipython3",
   "version": "3.8.5"
  }
 },
 "nbformat": 4,
 "nbformat_minor": 4
}
